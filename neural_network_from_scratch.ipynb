{
 "cells": [
  {
   "cell_type": "code",
   "execution_count": 1,
   "metadata": {
    "scrolled": true
   },
   "outputs": [],
   "source": [
    "import numpy as np\n",
    "import nnfs\n",
    "from nnfs.datasets import vertical_data\n",
    "import matplotlib.pyplot as plt\n",
    "\n",
    "nnfs.init()"
   ]
  },
  {
   "cell_type": "code",
   "execution_count": 2,
   "metadata": {},
   "outputs": [],
   "source": [
    "class Layer_Dense:\n",
    "    def __init__(self, n_inputs, n_neurons):\n",
    "        self.weights= 0.10 * np.random.randn(n_inputs,n_neurons)  #multiple with 0.1 to get vslues in 0. somethiing\n",
    "        self.bias= np.zeros((1, n_neurons))\n",
    "\n",
    "    def forward(self, input):\n",
    "        self.output = np.dot(input, self.weights) + self.bias"
   ]
  },
  {
   "cell_type": "code",
   "execution_count": 3,
   "metadata": {},
   "outputs": [],
   "source": [
    "class Activation_ReLu:\n",
    "    def forward(self,input):\n",
    "        self.output=np.maximum(0,input)"
   ]
  },
  {
   "cell_type": "code",
   "execution_count": 4,
   "metadata": {},
   "outputs": [],
   "source": [
    "class Activation_Softmax:\n",
    "    def forward(self,input):\n",
    "        exp_value=np.exp(input-np.max(input, axis=1,keepdims=True))\n",
    "        probability=exp_value/np.sum(exp_value,axis=1,keepdims=True)\n",
    "        self.output=probability\n",
    "        "
   ]
  },
  {
   "cell_type": "code",
   "execution_count": 5,
   "metadata": {},
   "outputs": [],
   "source": [
    "class Loss:\n",
    "    def calculate(self,output,y):\n",
    "        sample_losses=self.forward(output,y)\n",
    "        data_loss=np.mean(sample_losses)\n",
    "        return data_loss"
   ]
  },
  {
   "cell_type": "code",
   "execution_count": 6,
   "metadata": {},
   "outputs": [],
   "source": [
    "class Loss_CategoricalCrossEntropy(Loss):\n",
    "    def forward(self,y_pred,y_true):\n",
    "        samples=len(y_pred)\n",
    "        y_pred_clipped=np.clip(y_pred, 1e-7,1-1e-7)\n",
    "\n",
    "        if len(y_true.shape)==1:\n",
    "            correct_confidence=y_pred_clipped[range(samples),y_true]\n",
    "        elif len(y_true.shape)==2:\n",
    "            correct_confidence=np.sum(y_pred_clipped*y_true, axis=1)\n",
    "        \n",
    "        negative_log_liklihoods= -np.log(correct_confidence)\n",
    "        return negative_log_liklihoods"
   ]
  },
  {
   "cell_type": "code",
   "execution_count": 7,
   "metadata": {},
   "outputs": [],
   "source": [
    "x,y=vertical_data(samples=100,classes=3)"
   ]
  },
  {
   "cell_type": "code",
   "execution_count": 8,
   "metadata": {},
   "outputs": [],
   "source": [
    "dense1=Layer_Dense(2,3)\n",
    "activation1=Activation_ReLu()\n",
    "dense2=Layer_Dense(3,3)\n",
    "activation2=Activation_Softmax()\n"
   ]
  },
  {
   "cell_type": "code",
   "execution_count": 9,
   "metadata": {},
   "outputs": [],
   "source": [
    "loss_function=Loss_CategoricalCrossEntropy()\n"
   ]
  },
  {
   "cell_type": "code",
   "execution_count": 10,
   "metadata": {},
   "outputs": [],
   "source": [
    "lowest_loss=9999999\n",
    "best_dense1_weights=dense1.weights.copy()\n",
    "best_dense1_bias=dense1.bias.copy()\n",
    "best_dense2_weights=dense2.weights.copy()\n",
    "best_dense2_bias=dense2.bias.copy()"
   ]
  },
  {
   "cell_type": "code",
   "execution_count": 11,
   "metadata": {},
   "outputs": [
    {
     "name": "stdout",
     "output_type": "stream",
     "text": [
      "iteration:  0  loss:  1.0984223 accuracy:  0.3333333333333333\n",
      "iteration:  50  loss:  1.04904 accuracy:  0.6366666666666667\n",
      "iteration:  100  loss:  0.9343518 accuracy:  0.6533333333333333\n",
      "iteration:  150  loss:  0.80191547 accuracy:  0.6633333333333333\n",
      "iteration:  200  loss:  0.6696246 accuracy:  0.86\n",
      "iteration:  250  loss:  0.5780167 accuracy:  0.8566666666666667\n",
      "iteration:  300  loss:  0.50559175 accuracy:  0.8433333333333334\n",
      "iteration:  350  loss:  0.4397584 accuracy:  0.9033333333333333\n",
      "iteration:  400  loss:  0.37979653 accuracy:  0.9233333333333333\n",
      "iteration:  450  loss:  0.3575972 accuracy:  0.9133333333333333\n",
      "iteration:  500  loss:  0.3588995 accuracy:  0.9133333333333333\n",
      "iteration:  550  loss:  0.30165523 accuracy:  0.91\n",
      "iteration:  600  loss:  0.29115108 accuracy:  0.9233333333333333\n",
      "iteration:  650  loss:  0.2659149 accuracy:  0.9166666666666666\n",
      "iteration:  700  loss:  0.26482677 accuracy:  0.91\n",
      "iteration:  750  loss:  0.24843568 accuracy:  0.9133333333333333\n",
      "iteration:  800  loss:  0.24217577 accuracy:  0.9233333333333333\n",
      "iteration:  850  loss:  0.22541356 accuracy:  0.92\n",
      "iteration:  900  loss:  0.22168005 accuracy:  0.91\n",
      "iteration:  950  loss:  0.20606679 accuracy:  0.9166666666666666\n"
     ]
    }
   ],
   "source": [
    "for iterations in range(1000):\n",
    "\n",
    "    dense1.weights+=0.05 * np.random.randn(2,3)\n",
    "    dense1.bias+=0.05 * np.random.randn(1,3)\n",
    "    dense2.weights+=0.05 * np.random.randn(3,3)\n",
    "    dense2.bias+=0.05 * np.random.randn(1,3)\n",
    "\n",
    "    dense1.forward(x)\n",
    "    activation1.forward(dense1.output)\n",
    "    dense2.forward(activation1.output)\n",
    "    activation2.forward(dense2.output)\n",
    "    \n",
    "    loss=loss_function.calculate(activation2.output,y)\n",
    "\n",
    "    predictions=np.argmax(activation2.output,axis=1)\n",
    "    accuracy=np.mean(predictions==y)\n",
    "\n",
    "    if (iterations%50==0):\n",
    "        print(\"iteration: \",iterations, \" loss: \",loss, \"accuracy: \",accuracy)\n",
    "        \n",
    "    if loss<lowest_loss:\n",
    "        best_dense1_weights=dense1.weights.copy()\n",
    "        best_dense1_bias=dense1.bias.copy()\n",
    "        best_dense2_weights=dense2.weights.copy()\n",
    "        best_dense2_bias=dense2.bias.copy()\n",
    "        lowest_loss=loss\n",
    "\n",
    "    else:\n",
    "        dense1.weights=best_dense1_weights.copy()\n",
    "        dense1.bias=best_dense1_bias.copy()\n",
    "        dense2.weights=best_dense2_weights.copy()\n",
    "        dense2.bias=best_dense2_bias.copy()\n",
    "\n"
   ]
  },
  {
   "cell_type": "code",
   "execution_count": null,
   "metadata": {},
   "outputs": [],
   "source": []
  }
 ],
 "metadata": {
  "kernelspec": {
   "display_name": "Python 3 (ipykernel)",
   "language": "python",
   "name": "python3"
  },
  "language_info": {
   "codemirror_mode": {
    "name": "ipython",
    "version": 3
   },
   "file_extension": ".py",
   "mimetype": "text/x-python",
   "name": "python",
   "nbconvert_exporter": "python",
   "pygments_lexer": "ipython3",
   "version": "3.12.1"
  }
 },
 "nbformat": 4,
 "nbformat_minor": 2
}
